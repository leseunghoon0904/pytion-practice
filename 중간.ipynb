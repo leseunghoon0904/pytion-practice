{
  "nbformat": 4,
  "nbformat_minor": 0,
  "metadata": {
    "colab": {
      "provenance": [],
      "authorship_tag": "ABX9TyMjTemJVBDd9cAmP4RhXRTf",
      "include_colab_link": true
    },
    "kernelspec": {
      "name": "python3",
      "display_name": "Python 3"
    },
    "language_info": {
      "name": "python"
    }
  },
  "cells": [
    {
      "cell_type": "markdown",
      "metadata": {
        "id": "view-in-github",
        "colab_type": "text"
      },
      "source": [
        "<a href=\"https://colab.research.google.com/github/leseunghoon0904/pytion-practice/blob/main/%EC%A4%91%EA%B0%84.ipynb\" target=\"_parent\"><img src=\"https://colab.research.google.com/assets/colab-badge.svg\" alt=\"Open In Colab\"/></a>"
      ]
    },
    {
      "cell_type": "code",
      "execution_count": null,
      "metadata": {
        "id": "q8BUemXxX6vq"
      },
      "outputs": [],
      "source": [
        "#환\n",
        "# exchange_currency.py\n",
        "\n",
        "# ▪ exchange_rate: 환율(1달러에 대한 원화 비율)을 저장하는 전역 변수\n",
        "exchange_rate = 0.0\n",
        "\n",
        "# ▪ set_rate(won): 1달러에 대한 원화값을 입력받아 exchange_rate를 설정하는 함수\n",
        "def set_rate(won):\n",
        "    global exchange_rate\n",
        "    exchange_rate = won\n",
        "\n",
        "# ▪ get_rate(): set_rate()로 설정한 환율을 반환하는 함수\n",
        "def get_rate():\n",
        "    return exchange_rate\n",
        "\n",
        "# ▪ to_dollar(won): 원화 → 달러로 환전한 값을 반환하는 함수\n",
        "def to_dollar(won):\n",
        "    if exchange_rate == 0:\n",
        "        raise ValueError(\"환율이 설정되지 않았습니다.\")\n",
        "    return won / exchange_rate\n",
        "\n",
        "# ▪ to_won(dollar): 달러 → 원화로 환전한 값을 반환하는 함수\n",
        "def to_won(dollar):\n",
        "    return dollar * exchange_rate\n",
        "\n",
        "# ▪ main(): 함수 테스트 코드 포함, 리터럴을 이용하여 각 함수를 1회씩 호출\n",
        "def main():\n",
        "    # 환율 설정: 예를 들어 1달러 = 1350원\n",
        "    set_rate(1350)\n",
        "\n",
        "    print(\"설정된 환율 (1달러당 원화):\", get_rate())\n",
        "\n",
        "    won = 13500\n",
        "    dollar = 10\n",
        "\n",
        "    print(f\"{won}원은 {to_dollar(won):.2f}달러입니다.\")\n",
        "    print(f\"{dollar}달러는 {to_won(dollar):.0f}원입니다.\")\n",
        "\n",
        "# ▪ 메인 모듈로 실행된 경우에만 수행\n",
        "if __name__ == \"__main__\":\n",
        "    main()\n",
        "\n",
        "\n"
      ]
    },
    {
      "cell_type": "markdown",
      "source": [
        "# 새 섹션"
      ],
      "metadata": {
        "id": "UfZbRebZYJHX"
      }
    },
    {
      "cell_type": "markdown",
      "source": [
        "# 새 섹션"
      ],
      "metadata": {
        "id": "Y6Xu9t9QCnZB"
      }
    },
    {
      "cell_type": "code",
      "source": [
        "#입력받아 환율\n",
        "# run_exchange.py\n",
        "\n",
        "import exchange_currency\n",
        "\n",
        "def main():\n",
        "    # 사용자로부터 환율 입력\n",
        "    rate = float(input(\"$1에 대한 오늘의 환율은? \"))\n",
        "    exchange_currency.set_rate(rate)\n",
        "\n",
        "    # 달러 → 원화\n",
        "    dollar = float(input(\"원화로 변환할 달러화 액수는? \"))\n",
        "    won = exchange_currency.to_won(dollar)\n",
        "    print(f\" {dollar} 달러는 {int(won)} 원입니다\")\n",
        "\n",
        "    # 원화 → 달러\n",
        "    won_input = float(input(\"달러화로 변환할 원화 액수는? \"))\n",
        "    dollar_result = exchange_currency.to_dollar(won_input)\n",
        "    print(f\" {int(won_input)} 원은 {dollar_result} 달러입니다\")\n",
        "\n",
        "if __name__ == \"__main__\":\n",
        "    main()\n"
      ],
      "metadata": {
        "id": "7_ESXt3SCtHr"
      },
      "execution_count": null,
      "outputs": []
    },
    {
      "cell_type": "code",
      "source": [
        "#화씨온도\n",
        "# 화씨 → 섭씨 변환 프로그램\n",
        "\n",
        "# ◆ 사용자정의함수 fahrenheit_to_celsius()\n",
        "# ▪ 임의의 화씨온도를 매개변수로 전달받아 섭씨온도로 계산하여 반환\n",
        "def fahrenheit_to_celsius(f):\n",
        "    return 5 / 9 * (f - 32)\n",
        "\n",
        "# ◆ 사용자정의함수 get_real()\n",
        "# ▪ 프롬프트 메시지를 매개변수로 전달받고 사용자로부터 실수 입력을 받아 반환\n",
        "def get_real(prompt):\n",
        "    return float(input(prompt))\n",
        "\n",
        "# 메인 로직\n",
        "def main():\n",
        "    fahrenheit = get_real(\"변환하고자 하는 화씨온도? \")\n",
        "    celsius = fahrenheit_to_celsius(fahrenheit)\n",
        "    print(f\"화씨 {fahrenheit} 도는 섭씨 {celsius} 도\")\n",
        "\n",
        "if __name__ == \"__main__\":\n",
        "    main()\n"
      ],
      "metadata": {
        "id": "DO0gquAu0wsW"
      },
      "execution_count": null,
      "outputs": []
    },
    {
      "cell_type": "code",
      "source": [
        "#초 변환\n",
        "# ◆ 사용자정의함수 convert_time()\n",
        "# ▪ 초를 매개변수로 전달받아 시-분-초로 변환한 뒤 결과를 출력\n",
        "def convert_time(seconds):\n",
        "    hours = seconds // 3600\n",
        "    minutes = (seconds % 3600) // 60\n",
        "    secs = seconds % 60\n",
        "    print(f\" {seconds} 초는 {hours} 시간 {minutes} 분 {secs} 초이다.\")\n",
        "\n",
        "# ◆ 사용자정의함수 get_integer()\n",
        "# ▪ 사용자로부터 정수를 입력받아 반환\n",
        "def get_integer(prompt):\n",
        "    return int(input(prompt))\n",
        "\n",
        "# 메인 로직\n",
        "def main():\n",
        "    seconds = get_integer(\"변환하고자 하는 시간(초)? \")\n",
        "    convert_time(seconds)\n",
        "\n",
        "if __name__ == \"__main__\":\n",
        "    main()\n",
        "\n",
        "\n"
      ],
      "metadata": {
        "id": "5dYLoUiP__u-"
      },
      "execution_count": null,
      "outputs": []
    },
    {
      "cell_type": "markdown",
      "source": [
        "**굵은 텍스트**# 새 섹션"
      ],
      "metadata": {
        "id": "F6ujASR7B_TZ"
      }
    }
  ]
}