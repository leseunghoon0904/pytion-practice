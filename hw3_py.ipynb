{
  "nbformat": 4,
  "nbformat_minor": 0,
  "metadata": {
    "colab": {
      "provenance": [],
      "authorship_tag": "ABX9TyMWOvp7WvKgeGoCx77+vHrT",
      "include_colab_link": true
    },
    "kernelspec": {
      "name": "python3",
      "display_name": "Python 3"
    },
    "language_info": {
      "name": "python"
    }
  },
  "cells": [
    {
      "cell_type": "markdown",
      "metadata": {
        "id": "view-in-github",
        "colab_type": "text"
      },
      "source": [
        "<a href=\"https://colab.research.google.com/github/leseunghoon0904/pytion-practice/blob/main/hw3_py.ipynb\" target=\"_parent\"><img src=\"https://colab.research.google.com/assets/colab-badge.svg\" alt=\"Open In Colab\"/></a>"
      ]
    },
    {
      "cell_type": "code",
      "source": [
        "def get_fixed_price(discount_rate, discounted_price):\n",
        "    return int(discounted_price / (1 - discount_rate / 100))\n",
        "\n",
        "discount_rate = int(input(\"할인율은? \\033[34m\"))\n",
        "print(\"\\033[0m\", end=\"\")\n",
        "a_discounted = int(input(\"A 상품의 할인된 가격은? \\033[34m\"))\n",
        "print(\"\\033[0m\", end=\"\")\n",
        "b_discounted = int(input(\"B 상품의 할인된 가격은? \\033[34m\"))\n",
        "print(\"\\033[0m\", end=\"\")\n",
        "\n",
        "a_original = get_fixed_price(discount_rate, a_discounted)\n",
        "b_original = get_fixed_price(discount_rate, b_discounted)\n",
        "\n",
        "print(f\"A 상품의 정가는 {a_original} 원\")\n",
        "print(f\"B 상품의 정가는 {b_original} 원\")\n"
      ],
      "metadata": {
        "colab": {
          "base_uri": "https://localhost:8080/"
        },
        "id": "BgwvLpmDFDZW",
        "outputId": "87f8f68a-0ff1-458c-83ee-a9b86e1ae1e8"
      },
      "execution_count": null,
      "outputs": [
        {
          "output_type": "stream",
          "name": "stdout",
          "text": [
            "할인율은? \u001b[34m30\n",
            "\u001b[0mA 상품의 할인된 가격은? \u001b[34m2000\n",
            "\u001b[0mB 상품의 할인된 가격은? \u001b[34m30000\n",
            "\u001b[0mA 상품의 정가는 2857 원\n",
            "B 상품의 정가는 42857 원\n"
          ]
        }
      ]
    },
    {
      "cell_type": "code",
      "source": [],
      "metadata": {
        "id": "8HoL7fk-FDck"
      },
      "execution_count": null,
      "outputs": []
    }
  ]
}