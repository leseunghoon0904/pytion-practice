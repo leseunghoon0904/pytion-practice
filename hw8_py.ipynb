{
  "nbformat": 4,
  "nbformat_minor": 0,
  "metadata": {
    "colab": {
      "provenance": [],
      "authorship_tag": "ABX9TyMut3rZBZDOt4Z/dcs9hZ98",
      "include_colab_link": true
    },
    "kernelspec": {
      "name": "python3",
      "display_name": "Python 3"
    },
    "language_info": {
      "name": "python"
    }
  },
  "cells": [
    {
      "cell_type": "markdown",
      "metadata": {
        "id": "view-in-github",
        "colab_type": "text"
      },
      "source": [
        "<a href=\"https://colab.research.google.com/github/leseunghoon0904/pytion-practice/blob/main/hw8_py.ipynb\" target=\"_parent\"><img src=\"https://colab.research.google.com/assets/colab-badge.svg\" alt=\"Open In Colab\"/></a>"
      ]
    },
    {
      "cell_type": "code",
      "execution_count": null,
      "metadata": {
        "id": "q8BUemXxX6vq"
      },
      "outputs": [],
      "source": [
        "def add_item(cart):\n",
        "    while True:\n",
        "        print(\" [구입]\")\n",
        "        item = input(\"상품명? \")\n",
        "        if item == \"\":\n",
        "            break\n",
        "        quantity = int(input(\"수량은? \"))\n",
        "        cart[item] = cart.get(item, 0) + quantity\n",
        "        print(f\"장바구니에 {item} {quantity}개가 담겼습니다.\")\n",
        "\n",
        "\n",
        "def search_item(cart):\n",
        "    while True:\n",
        "        print(\" [검색]\")\n",
        "        item = input(\"장바구니에서 확인하고자 하는 상품은? \")\n",
        "        if item == \"\":\n",
        "            break\n",
        "        if item in cart:\n",
        "            print(f\"{item}(는) {cart[item]}개 담겨 있습니다\")\n",
        "        else:\n",
        "            print(f\"장바구니에 {item}은(는) 없습니다.\")\n",
        "\n",
        "\n",
        "def main():\n",
        "    cart = {}\n",
        "    add_item(cart)\n",
        "    print(\">>> 장바구니 보기:\", cart)\n",
        "    search_item(cart)\n",
        "\n",
        "\n",
        "if __name__ == \"__main__\":\n",
        "    main()\n"
      ]
    },
    {
      "cell_type": "markdown",
      "source": [
        "# 새 섹션"
      ],
      "metadata": {
        "id": "UfZbRebZYJHX"
      }
    },
    {
      "cell_type": "markdown",
      "source": [
        "# 새 섹션"
      ],
      "metadata": {
        "id": "Y6Xu9t9QCnZB"
      }
    },
    {
      "cell_type": "code",
      "source": [],
      "metadata": {
        "id": "7_ESXt3SCtHr"
      },
      "execution_count": null,
      "outputs": []
    },
    {
      "cell_type": "code",
      "source": [
        "\n",
        "\n"
      ],
      "metadata": {
        "id": "DO0gquAu0wsW"
      },
      "execution_count": null,
      "outputs": []
    },
    {
      "cell_type": "code",
      "source": [],
      "metadata": {
        "id": "5dYLoUiP__u-"
      },
      "execution_count": null,
      "outputs": []
    },
    {
      "cell_type": "markdown",
      "source": [
        "**굵은 텍스트**# 새 섹션"
      ],
      "metadata": {
        "id": "F6ujASR7B_TZ"
      }
    }
  ]
}