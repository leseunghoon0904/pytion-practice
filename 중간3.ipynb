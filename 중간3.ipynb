{
  "nbformat": 4,
  "nbformat_minor": 0,
  "metadata": {
    "colab": {
      "provenance": [],
      "authorship_tag": "ABX9TyNtGqWWXNVK4IeLoHjS4bvB",
      "include_colab_link": true
    },
    "kernelspec": {
      "name": "python3",
      "display_name": "Python 3"
    },
    "language_info": {
      "name": "python"
    }
  },
  "cells": [
    {
      "cell_type": "markdown",
      "metadata": {
        "id": "view-in-github",
        "colab_type": "text"
      },
      "source": [
        "<a href=\"https://colab.research.google.com/github/leseunghoon0904/pytion-practice/blob/main/%EC%A4%91%EA%B0%843.ipynb\" target=\"_parent\"><img src=\"https://colab.research.google.com/assets/colab-badge.svg\" alt=\"Open In Colab\"/></a>"
      ]
    },
    {
      "cell_type": "code",
      "execution_count": null,
      "metadata": {
        "id": "q8BUemXxX6vq"
      },
      "outputs": [],
      "source": [
        "#별표로 삼각형(왼)\n",
        "n = int(input(\"높이를 입력하세요: \"))\n",
        "for i in range(1, n + 1):\n",
        "    print('*' * i)\n",
        "\n",
        "n = int(input(\"높이를 입력하세요: \"))\n",
        "for i in range(1, n + 1):\n",
        "    print(' ' * (n - i) + '*' * i)\n",
        "\n",
        "n = int(input(\"높이를 입력하세요: \"))\n",
        "for i in range(1, n + 1):\n",
        "    print(' ' * (n - i) + '*' * (2 * i - 1))\n",
        "\n",
        "\n"
      ]
    },
    {
      "cell_type": "markdown",
      "source": [
        "# 새 섹션"
      ],
      "metadata": {
        "id": "UfZbRebZYJHX"
      }
    },
    {
      "cell_type": "markdown",
      "source": [
        "# 새 섹션"
      ],
      "metadata": {
        "id": "Y6Xu9t9QCnZB"
      }
    },
    {
      "cell_type": "code",
      "source": [
        "#누진세\n",
        "def calculate_tax(income):\n",
        "    # 세율 구간\n",
        "    tax_brackets = [(12000000, 0.06), (46000000, 0.15), (88000000, 0.24), (150000000, 0.35)]\n",
        "    # 세금 계산\n",
        "    tax = 0\n",
        "    previous_limit = 0\n",
        "\n",
        "    for limit, rate in tax_brackets:\n",
        "        if income > limit:\n",
        "            tax += (limit - previous_limit) * rate\n",
        "            previous_limit = limit\n",
        "        else:\n",
        "            tax += (income - previous_limit) * rate\n",
        "            break\n",
        "\n",
        "    if income > 150000000:\n",
        "        tax += (income - 150000000) * 0.38  # 150,000,000 초과 부분에 38% 적용\n",
        "\n",
        "    return tax\n",
        "\n",
        "# 사용자 입력\n",
        "income = int(input(\"소득을 입력하세요: \"))\n",
        "tax = calculate_tax(income)\n",
        "\n",
        "print(f\"소득 {income}원에 대한 세금은 {tax}원입니다.\")\n"
      ],
      "metadata": {
        "id": "7_ESXt3SCtHr"
      },
      "execution_count": null,
      "outputs": []
    },
    {
      "cell_type": "code",
      "source": [
        "#랜덤 문자열 출력\n",
        "import random\n",
        "import string\n",
        "\n",
        "def generate_random_string(length):\n",
        "    # 소문자, 대문자, 숫자 및 특수문자를 포함한 문자열을 생성\n",
        "    characters = string.ascii_letters + string.digits + string.punctuation\n",
        "    random_string = ''.join(random.choice(characters) for _ in range(length))\n",
        "    return random_string\n",
        "\n",
        "# 문자열 길이 입력\n",
        "length = int(input(\"랜덤 문자열의 길이를 입력하세요: \"))\n",
        "random_string = generate_random_string(length)\n",
        "\n",
        "print(f\"생성된 랜덤 문자열: {random_string}\")\n",
        "\n",
        "\n"
      ],
      "metadata": {
        "id": "DO0gquAu0wsW"
      },
      "execution_count": null,
      "outputs": []
    },
    {
      "cell_type": "code",
      "source": [
        "#비트연산\n",
        "a = 5  # 0101\n",
        "b = 3  # 0011\n",
        "\n",
        "result = a & b\n",
        "print(f\"{a} & {b} = {result}\")  # 0001 -> 1\n",
        "--------------------------------------\n",
        "a = 5  # 0101\n",
        "b = 3  # 0011\n",
        "\n",
        "result = a | b\n",
        "print(f\"{a} | {b} = {result}\")  # 0111 -> 7\n",
        "\n",
        "\n",
        "\n",
        "#별표로 사각형그리기\n",
        "def draw_rectangle(width, height):\n",
        "    for i in range(height):\n",
        "        print('*' * width)\n",
        "\n",
        "# 사용자 입력 받기\n",
        "width = int(input(\"사각형의 가로 길이를 입력하세요: \"))\n",
        "height = int(input(\"사각형의 세로 길이를 입력하세요: \"))\n",
        "\n",
        "# 사각형 그리기\n",
        "draw_rectangle(width, height)\n"
      ],
      "metadata": {
        "id": "5dYLoUiP__u-"
      },
      "execution_count": null,
      "outputs": []
    },
    {
      "cell_type": "markdown",
      "source": [
        "**굵은 텍스트**# 새 섹션"
      ],
      "metadata": {
        "id": "F6ujASR7B_TZ"
      }
    }
  ]
}