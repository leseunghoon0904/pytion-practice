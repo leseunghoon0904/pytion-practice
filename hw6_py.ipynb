{
  "nbformat": 4,
  "nbformat_minor": 0,
  "metadata": {
    "colab": {
      "provenance": [],
      "authorship_tag": "ABX9TyNMKJvI7MrjtVamxGUHi+24",
      "include_colab_link": true
    },
    "kernelspec": {
      "name": "python3",
      "display_name": "Python 3"
    },
    "language_info": {
      "name": "python"
    }
  },
  "cells": [
    {
      "cell_type": "markdown",
      "metadata": {
        "id": "view-in-github",
        "colab_type": "text"
      },
      "source": [
        "<a href=\"https://colab.research.google.com/github/leseunghoon0904/pytion-practice/blob/main/hw6_py.ipynb\" target=\"_parent\"><img src=\"https://colab.research.google.com/assets/colab-badge.svg\" alt=\"Open In Colab\"/></a>"
      ]
    },
    {
      "cell_type": "code",
      "execution_count": 2,
      "metadata": {
        "id": "q8BUemXxX6vq",
        "colab": {
          "base_uri": "https://localhost:8080/"
        },
        "outputId": "2ef2ffa4-d163-446a-dc67-ed0a3d22f361"
      },
      "outputs": [
        {
          "output_type": "stream",
          "name": "stdout",
          "text": [
            "2x1=2   \t3x1=3   \t4x1=4   \t5x1=5   \t\n",
            "2x2=4   \t3x2=6   \t4x2=8   \t5x2=10  \t\n",
            "2x3=6   \t3x3=9   \t4x3=12  \t5x3=15  \t\n",
            "2x4=8   \t3x4=12  \t4x4=16  \t5x4=20  \t\n",
            "2x5=10  \t3x5=15  \t4x5=20  \t5x5=25  \t\n",
            "2x6=12  \t3x6=18  \t4x6=24  \t5x6=30  \t\n",
            "2x7=14  \t3x7=21  \t4x7=28  \t5x7=35  \t\n",
            "2x8=16  \t3x8=24  \t4x8=32  \t5x8=40  \t\n",
            "2x9=18  \t3x9=27  \t4x9=36  \t5x9=45  \t\n",
            "\n",
            "6x1=6   \t7x1=7   \t8x1=8   \t9x1=9   \t\n",
            "6x2=12  \t7x2=14  \t8x2=16  \t9x2=18  \t\n",
            "6x3=18  \t7x3=21  \t8x3=24  \t9x3=27  \t\n",
            "6x4=24  \t7x4=28  \t8x4=32  \t9x4=36  \t\n",
            "6x5=30  \t7x5=35  \t8x5=40  \t9x5=45  \t\n",
            "6x6=36  \t7x6=42  \t8x6=48  \t9x6=54  \t\n",
            "6x7=42  \t7x7=49  \t8x7=56  \t9x7=63  \t\n",
            "6x8=48  \t7x8=56  \t8x8=64  \t9x8=72  \t\n",
            "6x9=54  \t7x9=63  \t8x9=72  \t9x9=81  \t\n"
          ]
        }
      ],
      "source": [
        "for i in range(1, 10):\n",
        "    for dan in range(2, 6):\n",
        "        print(f\"{dan}x{i}={dan*i:<4}\", end=\"\\t\")\n",
        "    print()\n",
        "\n",
        "print()\n",
        "\n",
        "for i in range(1, 10):\n",
        "    for dan in range(6, 10):\n",
        "        print(f\"{dan}x{i}={dan*i:<4}\", end=\"\\t\")\n",
        "    print()\n",
        "\n",
        "\n"
      ]
    },
    {
      "cell_type": "markdown",
      "source": [
        "# 새 섹션"
      ],
      "metadata": {
        "id": "UfZbRebZYJHX"
      }
    },
    {
      "cell_type": "markdown",
      "source": [
        "# 새 섹션"
      ],
      "metadata": {
        "id": "Y6Xu9t9QCnZB"
      }
    },
    {
      "cell_type": "code",
      "source": [],
      "metadata": {
        "id": "7_ESXt3SCtHr"
      },
      "execution_count": null,
      "outputs": []
    },
    {
      "cell_type": "code",
      "source": [],
      "metadata": {
        "colab": {
          "base_uri": "https://localhost:8080/"
        },
        "id": "DO0gquAu0wsW",
        "outputId": "6053d16a-3f48-4238-e33c-3ee538b6294b"
      },
      "execution_count": null,
      "outputs": [
        {
          "output_type": "execute_result",
          "data": {
            "text/plain": [
              "<function print>"
            ]
          },
          "metadata": {},
          "execution_count": 2
        }
      ]
    },
    {
      "cell_type": "code",
      "source": [
        "\n"
      ],
      "metadata": {
        "id": "5dYLoUiP__u-",
        "colab": {
          "base_uri": "https://localhost:8080/"
        },
        "outputId": "aaaceaa9-06e8-450b-aca0-b9ccc78c1ce0"
      },
      "execution_count": null,
      "outputs": [
        {
          "output_type": "stream",
          "name": "stdout",
          "text": [
            "세자리 정수를 입력하세요: ３５２\n",
            "삼 오 이 \n"
          ]
        }
      ]
    },
    {
      "cell_type": "markdown",
      "source": [
        "**굵은 텍스트**# 새 섹션"
      ],
      "metadata": {
        "id": "F6ujASR7B_TZ"
      }
    }
  ]
}