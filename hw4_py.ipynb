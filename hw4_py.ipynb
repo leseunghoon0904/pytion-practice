{
  "nbformat": 4,
  "nbformat_minor": 0,
  "metadata": {
    "colab": {
      "provenance": [],
      "authorship_tag": "ABX9TyNYH7s1hz5QGKsoCF044s6n",
      "include_colab_link": true
    },
    "kernelspec": {
      "name": "python3",
      "display_name": "Python 3"
    },
    "language_info": {
      "name": "python"
    }
  },
  "cells": [
    {
      "cell_type": "markdown",
      "metadata": {
        "id": "view-in-github",
        "colab_type": "text"
      },
      "source": [
        "<a href=\"https://colab.research.google.com/github/leseunghoon0904/pytion-practice/blob/main/hw4_py.ipynb\" target=\"_parent\"><img src=\"https://colab.research.google.com/assets/colab-badge.svg\" alt=\"Open In Colab\"/></a>"
      ]
    },
    {
      "cell_type": "code",
      "source": [
        "def rep_char(c, n):\n",
        "    print(c * n)\n",
        "\n",
        "def draw_line_string(msg):\n",
        "    width = len(msg) * 2\n",
        "    rep_char('-', width)\n",
        "    print(msg)\n",
        "    rep_char('-', width)\n",
        "\n",
        "def welcome_message(name):\n",
        "    msg1 = f\"Hello \\\"{name}\\\"\"\n",
        "    msg2 = \"Welcome to Seoul!\"\n",
        "    nstr = max(len(msg1), len(msg2))\n",
        "\n",
        "    rep_char('-', nstr)\n",
        "    print(msg1)\n",
        "    print(msg2)\n",
        "    rep_char('-', nstr)\n",
        "\n",
        "name = input(\"이름을 입력하세요: \")\n",
        "welcome_message(name)\n"
      ],
      "metadata": {
        "colab": {
          "base_uri": "https://localhost:8080/"
        },
        "id": "BgwvLpmDFDZW",
        "outputId": "6209354d-2fb9-444b-dd1d-157120ee3e5c"
      },
      "execution_count": null,
      "outputs": [
        {
          "output_type": "stream",
          "name": "stdout",
          "text": [
            "이름을 입력하세요: dafml\n",
            "-----------------\n",
            "Hello \"dafml\"\n",
            "Welcome to Seoul!\n",
            "-----------------\n"
          ]
        }
      ]
    },
    {
      "cell_type": "code",
      "source": [],
      "metadata": {
        "id": "8HoL7fk-FDck"
      },
      "execution_count": null,
      "outputs": []
    }
  ]
}