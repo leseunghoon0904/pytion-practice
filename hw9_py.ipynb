{
  "nbformat": 4,
  "nbformat_minor": 0,
  "metadata": {
    "colab": {
      "provenance": [],
      "authorship_tag": "ABX9TyO7kRYgiJ0XdQVPtnv6uivY",
      "include_colab_link": true
    },
    "kernelspec": {
      "name": "python3",
      "display_name": "Python 3"
    },
    "language_info": {
      "name": "python"
    }
  },
  "cells": [
    {
      "cell_type": "markdown",
      "metadata": {
        "id": "view-in-github",
        "colab_type": "text"
      },
      "source": [
        "<a href=\"https://colab.research.google.com/github/leseunghoon0904/pytion-practice/blob/main/hw9_py.ipynb\" target=\"_parent\"><img src=\"https://colab.research.google.com/assets/colab-badge.svg\" alt=\"Open In Colab\"/></a>"
      ]
    },
    {
      "cell_type": "code",
      "execution_count": null,
      "metadata": {
        "id": "q8BUemXxX6vq"
      },
      "outputs": [],
      "source": [
        "class Time:\n",
        "    def __init__(self, hour=0, minute=0):\n",
        "        self__hour = hourclass Rectangle:\n",
        "    def __init__(self, x1, y1, x2, y2):\n",
        "        self.x1 = x1\n",
        "        self.y1 = y1\n",
        "        self.x2 = x2\n",
        "        self.y2 = y2\n",
        "\n",
        "    def getArea(self):\n",
        "        width = self.x2 - self.x1\n",
        "        height = self.y2 - self.y1\n",
        "        return width * height\n",
        "\n",
        "    def getPerimeter(self):\n",
        "        width = self.x2 - self.x1\n",
        "        height = self.y2 - self.y1\n",
        "        return 2 * (width + height)\n",
        "\n",
        "    def show(self):\n",
        "        print(f\"좌측상단꼭지점이({self.x1}, {self.y1})이고우측하단꼭지점이({self.x2}, {self.y2})인사각형입니다.\")\n",
        "\n",
        "r1 = Rectangle(5, 5, 20, 10)\n",
        "a = r1.getArea()\n",
        "p = r1.getPerimeter()\n",
        "r1.show()\n",
        "print(f'\\n넓이는 {a}, 둘레는 {p}')\n"
      ]
    },
    {
      "cell_type": "markdown",
      "source": [
        "# 새 섹션"
      ],
      "metadata": {
        "id": "UfZbRebZYJHX"
      }
    },
    {
      "cell_type": "markdown",
      "source": [
        "# 새 섹션"
      ],
      "metadata": {
        "id": "Y6Xu9t9QCnZB"
      }
    },
    {
      "cell_type": "code",
      "source": [],
      "metadata": {
        "id": "7_ESXt3SCtHr"
      },
      "execution_count": null,
      "outputs": []
    },
    {
      "cell_type": "code",
      "source": [
        "\n",
        "\n"
      ],
      "metadata": {
        "id": "DO0gquAu0wsW"
      },
      "execution_count": null,
      "outputs": []
    },
    {
      "cell_type": "code",
      "source": [],
      "metadata": {
        "id": "5dYLoUiP__u-"
      },
      "execution_count": null,
      "outputs": []
    },
    {
      "cell_type": "markdown",
      "source": [
        "**굵은 텍스트**# 새 섹션"
      ],
      "metadata": {
        "id": "F6ujASR7B_TZ"
      }
    }
  ]
}