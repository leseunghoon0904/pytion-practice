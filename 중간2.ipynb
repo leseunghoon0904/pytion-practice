{
  "nbformat": 4,
  "nbformat_minor": 0,
  "metadata": {
    "colab": {
      "provenance": [],
      "authorship_tag": "ABX9TyOhS3pSHCO7hd2Yv5wWf2p/",
      "include_colab_link": true
    },
    "kernelspec": {
      "name": "python3",
      "display_name": "Python 3"
    },
    "language_info": {
      "name": "python"
    }
  },
  "cells": [
    {
      "cell_type": "markdown",
      "metadata": {
        "id": "view-in-github",
        "colab_type": "text"
      },
      "source": [
        "<a href=\"https://colab.research.google.com/github/leseunghoon0904/pytion-practice/blob/main/%EC%A4%91%EA%B0%842.ipynb\" target=\"_parent\"><img src=\"https://colab.research.google.com/assets/colab-badge.svg\" alt=\"Open In Colab\"/></a>"
      ]
    },
    {
      "cell_type": "code",
      "execution_count": null,
      "metadata": {
        "id": "q8BUemXxX6vq"
      },
      "outputs": [],
      "source": [
        "# 이름\n",
        "# ▪ 이름(문자열), 학년(정수)을 매개변수로 받아 문자열 반환\n",
        "def introduce(name, grade):\n",
        "    given_name = name[1:]  # 성을 제외한 이름\n",
        "    next_grade = grade + 1\n",
        "    return f\"{given_name}은 내년에 {next_grade}학년입니다\"\n",
        "\n",
        "# 사용자 입력 및 실행\n",
        "def main():\n",
        "    name = input(\"이름? \")\n",
        "    grade = int(input(\"학년? \"))\n",
        "    message = introduce(name, grade)\n",
        "    print(message)\n",
        "\n",
        "if __name__ == \"__main__\":\n",
        "    main()\n",
        "\n",
        "\n",
        "\n"
      ]
    },
    {
      "cell_type": "markdown",
      "source": [
        "# 새 섹션"
      ],
      "metadata": {
        "id": "UfZbRebZYJHX"
      }
    },
    {
      "cell_type": "markdown",
      "source": [
        "# 새 섹션"
      ],
      "metadata": {
        "id": "Y6Xu9t9QCnZB"
      }
    },
    {
      "cell_type": "code",
      "source": [
        "#입력받아 환율\n",
        "# run_exchange.py\n",
        "\n",
        "import exchange_currency\n",
        "\n",
        "def main():\n",
        "    # 사용자로부터 환율 입력\n",
        "    rate = float(input(\"$1에 대한 오늘의 환율은? \"))\n",
        "    exchange_currency.set_rate(rate)\n",
        "\n",
        "    # 달러 → 원화\n",
        "    dollar = float(input(\"원화로 변환할 달러화 액수는? \"))\n",
        "    won = exchange_currency.to_won(dollar)\n",
        "    print(f\" {dollar} 달러는 {int(won)} 원입니다\")\n",
        "\n",
        "    # 원화 → 달러\n",
        "    won_input = float(input(\"달러화로 변환할 원화 액수는? \"))\n",
        "    dollar_result = exchange_currency.to_dollar(won_input)\n",
        "    print(f\" {int(won_input)} 원은 {dollar_result} 달러입니다\")\n",
        "\n",
        "if __name__ == \"__main__\":\n",
        "    main()\n"
      ],
      "metadata": {
        "id": "7_ESXt3SCtHr"
      },
      "execution_count": null,
      "outputs": []
    },
    {
      "cell_type": "code",
      "source": [
        "#연도\n",
        "# ◆ 윤년 판별 함수\n",
        "def is_leap_year(year):\n",
        "    return (year % 4 == 0 and year % 100 != 0) or (year % 400 == 0)\n",
        "\n",
        "# ◆ 월별 일수 계산 함수\n",
        "def month_days(year, month):\n",
        "    if month == 2:\n",
        "        return 29 if is_leap_year(year) else 28\n",
        "    elif month in [1, 3, 5, 7, 8, 10, 12]:\n",
        "        return 31\n",
        "    else:\n",
        "        return 30\n",
        "\n",
        "# ◆ 메인 로직\n",
        "def main():\n",
        "    year = int(input(\"연도? \"))\n",
        "    month = int(input(\"월? \"))\n",
        "    days = month_days(year, month)\n",
        "    print(f\" {year}년 {month}월은 {days}일까지 있습니다\")\n",
        "\n",
        "if __name__ == \"__main__\":\n",
        "    main()\n"
      ],
      "metadata": {
        "id": "DO0gquAu0wsW"
      },
      "execution_count": null,
      "outputs": []
    },
    {
      "cell_type": "code",
      "source": [
        "#나이\n",
        "# ◆ 사용자 정의 함수: 유효한 나이 입력받기\n",
        "def input_age():\n",
        "    while True:\n",
        "        age = int(input(\"나이? \"))\n",
        "        if 0 <= age <= 150:  # 일반적으로 유효하다고 간주하는 범위\n",
        "            return age\n",
        "        else:\n",
        "            print(\"유효하지 않은 나이입니다. 다시 입력하세요.\")\n",
        "\n",
        "# ◆ 메인 로직\n",
        "def main():\n",
        "    age = input_age()\n",
        "    if age >= 18:\n",
        "        print(\"당신은 성인입니다.\")\n",
        "    else:\n",
        "        print(\"당신은 성인이 아닙니다\")\n",
        "\n",
        "if __name__ == \"__main__\":\n",
        "    main()\n",
        "\n",
        "\n",
        "\n"
      ],
      "metadata": {
        "id": "5dYLoUiP__u-"
      },
      "execution_count": null,
      "outputs": []
    },
    {
      "cell_type": "markdown",
      "source": [
        "**굵은 텍스트**# 새 섹션"
      ],
      "metadata": {
        "id": "F6ujASR7B_TZ"
      }
    }
  ]
}